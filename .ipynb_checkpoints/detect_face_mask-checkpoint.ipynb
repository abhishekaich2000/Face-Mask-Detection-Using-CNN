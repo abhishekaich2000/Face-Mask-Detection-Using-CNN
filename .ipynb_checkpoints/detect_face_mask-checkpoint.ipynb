{
 "cells": [
  {
   "cell_type": "code",
   "execution_count": 43,
   "metadata": {},
   "outputs": [
    {
     "name": "stdout",
     "output_type": "stream",
     "text": [
      "Using matplotlib backend: Qt5Agg\n"
     ]
    }
   ],
   "source": [
    "import tensorflow as tf\n",
    "import numpy as np\n",
    "import matplotlib.pyplot as plt\n",
    "%matplotlib\n",
    "import cv2\n",
    "from tensorflow import keras"
   ]
  },
  {
   "cell_type": "code",
   "execution_count": 44,
   "metadata": {},
   "outputs": [],
   "source": [
    "model = tf.keras.models.load_model('my_model.h5')\n",
    "face_classifier = cv2.CascadeClassifier(\"haarcascade_frontalface_default.xml\")"
   ]
  },
  {
   "cell_type": "code",
   "execution_count": 57,
   "metadata": {},
   "outputs": [],
   "source": [
    "def detectFace(img_path):\n",
    "    img=cv2.imread(img_path)\n",
    "    plt.imshow(cv2.cvtColor(img, cv2.COLOR_BGR2RGB))\n",
    "    \n",
    "    \n",
    "    img_gray=cv2.cvtColor(img,cv2.COLOR_RGB2GRAY)\n",
    "    face=face_classifier.detectMultiScale(\n",
    "        img_gray,\n",
    "        scaleFactor=1.1,\n",
    "        minNeighbors=5,\n",
    "        minSize=(30, 30),\n",
    "    )\n",
    "    for (x,y,w,h) in face:\n",
    "        final_image=img[y:y+w,x:x+w]\n",
    "        final_image=np.expand_dims(final_image, axis=0)\n",
    "        final_image=final_image/255.0\n",
    "        prediction=model.predict(final_image);\n",
    "        print(prediction)\n",
    "        if(prediction > 0.9):\n",
    "            cv2.rectangle(img, (x,y), (x+w,y+h), (0,0,255), 2)\n",
    "            cv2.rectangle(img,(x,y-40),(x+w,y), (0,0,255),-1)\n",
    "            cv2.putText(img, \"No Mask\", (x, y-60),cv2.FONT_HERSHEY_SIMPLEX,4,(255,255,255),6)\n",
    "        else:\n",
    "            cv2.rectangle(img, (x,y), (x+w,y+h), (0, 255, 0), 2)\n",
    "            cv2.rectangle(img,(x,y-40),(x+w,y), (0,255,0),-1)\n",
    "            cv2.putText(img, \"Mask\", (x, y-50),cv2.FONT_HERSHEY_SIMPLEX,4,(255,255,255),4)\n",
    "            \n",
    "    plt.imshow(cv2.cvtColor(img,cv2.COLOR_BGR2RGB))          "
   ]
  },
  {
   "cell_type": "code",
   "execution_count": 62,
   "metadata": {},
   "outputs": [
    {
     "name": "stdout",
     "output_type": "stream",
     "text": [
      "1/1 [==============================] - 0s 125ms/step\n",
      "[[0.03665625]]\n"
     ]
    }
   ],
   "source": [
    "detectFace('elon.jpg')"
   ]
  },
  {
   "cell_type": "code",
   "execution_count": 64,
   "metadata": {},
   "outputs": [
    {
     "name": "stdout",
     "output_type": "stream",
     "text": [
      "1/1 [==============================] - 0s 151ms/step\n",
      "[[0.9466115]]\n"
     ]
    }
   ],
   "source": [
    "detectFace('batka2.jpg')"
   ]
  },
  {
   "cell_type": "code",
   "execution_count": null,
   "metadata": {},
   "outputs": [],
   "source": []
  }
 ],
 "metadata": {
  "kernelspec": {
   "display_name": "Python 3",
   "language": "python",
   "name": "python3"
  },
  "language_info": {
   "codemirror_mode": {
    "name": "ipython",
    "version": 3
   },
   "file_extension": ".py",
   "mimetype": "text/x-python",
   "name": "python",
   "nbconvert_exporter": "python",
   "pygments_lexer": "ipython3",
   "version": "3.8.5"
  }
 },
 "nbformat": 4,
 "nbformat_minor": 4
}
